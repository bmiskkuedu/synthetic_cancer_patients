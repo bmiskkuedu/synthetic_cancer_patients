{
 "cells": [
  {
   "cell_type": "code",
   "execution_count": 1,
   "metadata": {},
   "outputs": [],
   "source": [
    "import numpy as np\n",
    "import pandas as pd\n",
    "import os\n",
    "import pickle\n",
    "import matplotlib.pyplot as plt\n",
    "# import seaborn as sns\n",
    "from scipy import stats\n",
    "from tqdm import tqdm\n",
    "import datetime\n",
    "from datetime import timedelta\n",
    "\n",
    "from scipy.integrate import trapezoid"
   ]
  },
  {
   "cell_type": "code",
   "execution_count": 2,
   "metadata": {},
   "outputs": [],
   "source": [
    "from sksurv.metrics import (\n",
    "    concordance_index_censored,\n",
    "    concordance_index_ipcw,\n",
    "    cumulative_dynamic_auc,\n",
    "    integrated_brier_score,\n",
    ")"
   ]
  },
  {
   "cell_type": "markdown",
   "metadata": {},
   "source": [
    "## real"
   ]
  },
  {
   "cell_type": "code",
   "execution_count": 3,
   "metadata": {},
   "outputs": [],
   "source": [
    "final = pd.read_csv('./final_lung_real_202311.csv')"
   ]
  },
  {
   "cell_type": "code",
   "execution_count": 4,
   "metadata": {},
   "outputs": [],
   "source": [
    "# 5년 \n",
    "final.reset_index(drop = True, inplace = True)\n",
    "\n",
    "from sklearn.model_selection import train_test_split\n",
    "data_train, data_test = train_test_split(final, test_size = 0.2, random_state = 42, stratify = final['DEAD'])# 0.3, 1000"
   ]
  },
  {
   "cell_type": "code",
   "execution_count": 8,
   "metadata": {},
   "outputs": [],
   "source": [
    "X_train, X_test = data_train.drop(columns = ['DIFF','DEAD']), data_test.drop(columns = ['DIFF','DEAD'])"
   ]
  },
  {
   "cell_type": "code",
   "execution_count": 9,
   "metadata": {},
   "outputs": [],
   "source": [
    "Y_train = []\n",
    "y = np.array(data_train[['DEAD','DIFF']]).tolist()\n",
    "for yy in y:\n",
    "    Y_train.append(tuple(yy))\n",
    "\n",
    "Y_train = np.array(Y_train, dtype=[('DEAD', bool), ('DIFF', int)])\n",
    "\n",
    "\n",
    "Y_test = []\n",
    "y = np.array(data_test[['DEAD','DIFF']]).tolist()\n",
    "for yy in y:\n",
    "    Y_test.append(tuple(yy))\n",
    "Y_test = np.array(Y_test, dtype=[('DEAD', bool), ('DIFF', int)])"
   ]
  },
  {
   "cell_type": "code",
   "execution_count": 10,
   "metadata": {},
   "outputs": [],
   "source": [
    "X_train_baseline = X_train.copy()"
   ]
  },
  {
   "cell_type": "code",
   "execution_count": 11,
   "metadata": {},
   "outputs": [],
   "source": [
    "X_test_baseline, Y_test_baseline = X_test.copy(), Y_test.copy()"
   ]
  },
  {
   "cell_type": "code",
   "execution_count": 12,
   "metadata": {},
   "outputs": [],
   "source": [
    "mask = (Y_test_baseline[\"DIFF\"] < Y_test_baseline[Y_test_baseline[\"DEAD\"]==1][\"DIFF\"].max()) & (Y_test_baseline[\"DIFF\"] > Y_test_baseline[Y_test_baseline[\"DEAD\"]==1][\"DIFF\"].min())"
   ]
  },
  {
   "cell_type": "code",
   "execution_count": 13,
   "metadata": {},
   "outputs": [
    {
     "data": {
      "text/plain": [
       "0.7017883124428494"
      ]
     },
     "execution_count": 13,
     "metadata": {},
     "output_type": "execute_result"
    }
   ],
   "source": [
    "from sksurv.ensemble import RandomSurvivalForest\n",
    "rsf = RandomSurvivalForest(random_state=42, n_estimators=120, max_depth=8, min_samples_leaf=4, max_features=3)\n",
    "rsf.fit(X_train, Y_train)\n",
    "\n",
    "#c-index\n",
    "rsf.score(X_test_baseline, Y_test_baseline)"
   ]
  },
  {
   "cell_type": "code",
   "execution_count": 14,
   "metadata": {},
   "outputs": [
    {
     "data": {
      "text/plain": [
       "0.7018"
      ]
     },
     "execution_count": 14,
     "metadata": {},
     "output_type": "execute_result"
    }
   ],
   "source": [
    "np.round(rsf.score(X_test_baseline, Y_test_baseline),4)"
   ]
  },
  {
   "cell_type": "markdown",
   "metadata": {},
   "source": [
    "## brier score"
   ]
  },
  {
   "cell_type": "code",
   "execution_count": 15,
   "metadata": {},
   "outputs": [],
   "source": [
    "from sksurv.metrics import brier_score, integrated_brier_score\n",
    "# mask created to enable for calculating Brier score\n",
    "mask = (Y_test_baseline[\"DIFF\"] < Y_test_baseline[Y_test_baseline[\"DEAD\"]==1][\"DIFF\"].max()) & (Y_test_baseline[\"DIFF\"] > Y_test_baseline[Y_test_baseline[\"DEAD\"]==1][\"DIFF\"].min())\n",
    "times = np.unique(np.percentile(Y_test_baseline[mask][\"DIFF\"], np.linspace(1, 99, 100))) #.1, 99.9, 101\n",
    "\n",
    "survs_rsf = rsf.predict_survival_function(X_test_baseline[mask])\n",
    "# survs_cph = cph.predict_survival_function(X[mask])\n",
    "preds_rsf = [fn(times) for fn in survs_rsf]\n",
    "\n",
    "brier_rsf = brier_score(Y_train, Y_test_baseline[mask], preds_rsf, times)"
   ]
  },
  {
   "cell_type": "code",
   "execution_count": 16,
   "metadata": {},
   "outputs": [],
   "source": [
    "brier_real = pd.DataFrame({\"time\": times, \"brier_score\":  brier_rsf[1], \"label\": \"RSF\"})"
   ]
  },
  {
   "cell_type": "code",
   "execution_count": 17,
   "metadata": {},
   "outputs": [
    {
     "data": {
      "text/plain": [
       "0.0875"
      ]
     },
     "execution_count": 17,
     "metadata": {},
     "output_type": "execute_result"
    }
   ],
   "source": [
    "np.round(brier_real['brier_score'].mean(),4)"
   ]
  },
  {
   "cell_type": "code",
   "execution_count": 18,
   "metadata": {},
   "outputs": [
    {
     "data": {
      "text/plain": [
       "0.14541095349646865"
      ]
     },
     "execution_count": 18,
     "metadata": {},
     "output_type": "execute_result"
    }
   ],
   "source": [
    "integrated_brier_score(Y_train, Y_test_baseline[mask], preds_rsf, times)"
   ]
  },
  {
   "cell_type": "markdown",
   "metadata": {},
   "source": [
    "# survival function"
   ]
  },
  {
   "cell_type": "code",
   "execution_count": 19,
   "metadata": {},
   "outputs": [],
   "source": [
    "surv_funcs = rsf.predict_survival_function(X_test_baseline[mask])\n",
    "\n",
    "lst = []\n",
    "for fn in surv_funcs:\n",
    "    lst.append(fn(fn.x))\n",
    "    \n",
    "surv_funcs_real = np.mean(lst, axis=0)"
   ]
  },
  {
   "cell_type": "code",
   "execution_count": 20,
   "metadata": {},
   "outputs": [],
   "source": [
    "surv_funcs_times = []\n",
    "for i, fn in enumerate(surv_funcs):\n",
    "    surv_funcs_times.append(fn.x)\n",
    "    if i>0:\n",
    "        break\n",
    "surv_funcs_times = surv_funcs_times[0]"
   ]
  },
  {
   "cell_type": "code",
   "execution_count": 21,
   "metadata": {},
   "outputs": [],
   "source": [
    "surv_funcs_real = pd.DataFrame({'surv_func_real': surv_funcs_real, 'time': surv_funcs_times})"
   ]
  },
  {
   "cell_type": "code",
   "execution_count": 22,
   "metadata": {},
   "outputs": [
    {
     "name": "stderr",
     "output_type": "stream",
     "text": [
      "/home/tohone06/.conda/envs/pysurv/lib/python3.9/site-packages/sksurv/metrics.py:482: RuntimeWarning: invalid value encountered in divide\n",
      "  true_pos = cumsum_tp / cumsum_tp[-1]\n"
     ]
    }
   ],
   "source": [
    "rsf_risk_scores = rsf.predict(X_test_baseline[mask])\n",
    "rsf_auc_real, rsf_mean_auc = cumulative_dynamic_auc(Y_train, Y_test_baseline[mask], rsf_risk_scores, times)"
   ]
  },
  {
   "cell_type": "markdown",
   "metadata": {},
   "source": [
    "## syn"
   ]
  },
  {
   "cell_type": "code",
   "execution_count": 23,
   "metadata": {},
   "outputs": [],
   "source": [
    "final = pd.read_csv('./final_lung_syn_202311.csv')"
   ]
  },
  {
   "cell_type": "code",
   "execution_count": 24,
   "metadata": {},
   "outputs": [],
   "source": [
    "# 5년 \n",
    "final.reset_index(drop = True, inplace = True)\n",
    "\n",
    "N = final.shape[0]"
   ]
  },
  {
   "cell_type": "code",
   "execution_count": 25,
   "metadata": {},
   "outputs": [],
   "source": [
    "X_train = final.drop(columns = ['DIFF','DEAD'])\n",
    "\n",
    "Y_train = []\n",
    "y = np.array(final[['DEAD','DIFF']]).tolist()\n",
    "for yy in y:\n",
    "    Y_train.append(tuple(yy))\n",
    "\n",
    "Y_train = np.array(Y_train, dtype=[('DEAD', bool), ('DIFF', int)])"
   ]
  },
  {
   "cell_type": "code",
   "execution_count": 27,
   "metadata": {},
   "outputs": [
    {
     "data": {
      "text/plain": [
       "0.6748022385650937"
      ]
     },
     "execution_count": 27,
     "metadata": {},
     "output_type": "execute_result"
    }
   ],
   "source": [
    "from sksurv.ensemble import RandomSurvivalForest\n",
    "rsf = RandomSurvivalForest(random_state=42, n_estimators=120, max_depth=8, min_samples_leaf=4, max_features=3)\n",
    "rsf.fit(X_train, Y_train)\n",
    "rsf.score(X_test_baseline, Y_test_baseline)"
   ]
  },
  {
   "cell_type": "code",
   "execution_count": 28,
   "metadata": {},
   "outputs": [
    {
     "data": {
      "text/plain": [
       "0.6748022385650937"
      ]
     },
     "execution_count": 28,
     "metadata": {},
     "output_type": "execute_result"
    }
   ],
   "source": [
    "#c-index\n",
    "rsf.score(X_test_baseline, Y_test_baseline)"
   ]
  },
  {
   "cell_type": "code",
   "execution_count": 29,
   "metadata": {},
   "outputs": [],
   "source": [
    "from sksurv.metrics import brier_score, integrated_brier_score\n",
    "# mask created to enable for calculating Brier score\n",
    "mask = (Y_test_baseline[\"DIFF\"] < Y_test_baseline[Y_test_baseline[\"DEAD\"]==1][\"DIFF\"].max()) & (Y_test_baseline[\"DIFF\"] > Y_test_baseline[Y_test_baseline[\"DEAD\"]==1][\"DIFF\"].min())\n",
    "times = np.unique(np.percentile(Y_test_baseline[mask][\"DIFF\"], np.linspace(1, 99, 100)))\n",
    "\n",
    "survs_rsf = rsf.predict_survival_function(X_test_baseline[mask])\n",
    "# survs_cph = cph.predict_survival_function(X[mask])\n",
    "preds_rsf = [fn(times) for fn in survs_rsf]\n",
    "\n",
    "brier_rsf = brier_score(Y_train, Y_test_baseline[mask], preds_rsf, times)"
   ]
  },
  {
   "cell_type": "code",
   "execution_count": 30,
   "metadata": {},
   "outputs": [],
   "source": [
    "brier_syn = pd.DataFrame({\"time\": times, \"brier_score\":  brier_rsf[1], \"label\": \"RSF\"})"
   ]
  },
  {
   "cell_type": "code",
   "execution_count": 31,
   "metadata": {},
   "outputs": [
    {
     "data": {
      "text/plain": [
       "0.0901"
      ]
     },
     "execution_count": 31,
     "metadata": {},
     "output_type": "execute_result"
    }
   ],
   "source": [
    "# Brier score\n",
    "np.round(brier_syn['brier_score'].mean(),4)"
   ]
  },
  {
   "cell_type": "code",
   "execution_count": 32,
   "metadata": {},
   "outputs": [
    {
     "data": {
      "text/plain": [
       "0.15276988258025828"
      ]
     },
     "execution_count": 32,
     "metadata": {},
     "output_type": "execute_result"
    }
   ],
   "source": [
    "integrated_brier_score(Y_train, Y_test_baseline[mask], preds_rsf, times)"
   ]
  },
  {
   "cell_type": "code",
   "execution_count": 33,
   "metadata": {},
   "outputs": [
    {
     "name": "stderr",
     "output_type": "stream",
     "text": [
      "/home/tohone06/.conda/envs/pysurv/lib/python3.9/site-packages/sksurv/metrics.py:482: RuntimeWarning: invalid value encountered in divide\n",
      "  true_pos = cumsum_tp / cumsum_tp[-1]\n"
     ]
    }
   ],
   "source": [
    "rsf_risk_scores = rsf.predict(X_test_baseline[mask])\n",
    "rsf_auc_syn, rsf_mean_auc = cumulative_dynamic_auc(Y_train, Y_test_baseline[mask], rsf_risk_scores, times)"
   ]
  },
  {
   "cell_type": "markdown",
   "metadata": {},
   "source": [
    "# survival function"
   ]
  },
  {
   "cell_type": "code",
   "execution_count": 34,
   "metadata": {},
   "outputs": [],
   "source": [
    "surv_funcs = rsf.predict_survival_function(X_test_baseline[mask])\n",
    "\n",
    "lst = []\n",
    "for fn in surv_funcs:\n",
    "    lst.append(fn(fn.x))\n",
    "    \n",
    "surv_funcs_syn = np.mean(lst, axis=0)"
   ]
  },
  {
   "cell_type": "code",
   "execution_count": 35,
   "metadata": {},
   "outputs": [],
   "source": [
    "surv_funcs_times = []\n",
    "for i, fn in enumerate(surv_funcs):\n",
    "    surv_funcs_times.append(fn.x)\n",
    "    if i>0:\n",
    "        break\n",
    "surv_funcs_times = surv_funcs_times[0]"
   ]
  },
  {
   "cell_type": "code",
   "execution_count": 36,
   "metadata": {},
   "outputs": [],
   "source": [
    "surv_funcs_syn = pd.DataFrame({'surv_func_syn': surv_funcs_syn, 'time': surv_funcs_times})"
   ]
  },
  {
   "cell_type": "code",
   "execution_count": 38,
   "metadata": {},
   "outputs": [
    {
     "data": {
      "image/png": "[encoded data removed]",
      "text/plain": [
       "<Figure size 640x480 with 1 Axes>"
      ]
     },
     "metadata": {},
     "output_type": "display_data"
    }
   ],
   "source": [
    "plt.plot(times, rsf_auc_real, marker=\"o\", color = 'red', label = 'Real')\n",
    "plt.plot(times, rsf_auc_syn, marker=\"o\", color = 'blue', label = 'Syn')\n",
    "plt.xlabel(\"days from survival\")\n",
    "plt.ylabel(\"time-dependent AUC\")\n",
    "plt.axhline(y=np.mean(rsf_auc_syn[52:]), color='blue', linestyle='--', label='Mean Syn AUC(After 154 days)')\n",
    "plt.title('LUNG')\n",
    "plt.ylim(0, 1)\n",
    "plt.legend()\n",
    "plt.grid(True)"
   ]
  },
  {
   "cell_type": "code",
   "execution_count": null,
   "metadata": {},
   "outputs": [],
   "source": []
  },
  {
   "cell_type": "code",
   "execution_count": 39,
   "metadata": {},
   "outputs": [
    {
     "data": {
      "image/png": "[encoded data removed]",
      "text/plain": [
       "<Figure size 1200x800 with 1 Axes>"
      ]
     },
     "metadata": {},
     "output_type": "display_data"
    },
    {
     "data": {
      "text/plain": [
       "<Figure size 1000x600 with 0 Axes>"
      ]
     },
     "metadata": {},
     "output_type": "display_data"
    }
   ],
   "source": [
    "import pandas as pd\n",
    "import matplotlib.pyplot as plt\n",
    "from sklearn.metrics import mean_squared_error\n",
    "\n",
    "\n",
    "\n",
    "fig, ax = plt.subplots(figsize=(12, 8))\n",
    "colors = [\"#4378bf\", \"#ae2c87\"]\n",
    "linetypes = [1, 5]\n",
    "\n",
    "for label, color, linetype in zip(brier_real['label'].unique(), colors, linetypes):\n",
    "    data = brier_real[brier_real['label'] == label]\n",
    "    r = data['brier_score']\n",
    "    ax.plot(data['time'], data['brier_score'], color='red', linestyle='-', linewidth=1, label='Real')\n",
    "\n",
    "for label, color, linetype in zip(brier_syn['label'].unique(), colors, linetypes):\n",
    "    data = brier_syn[brier_syn['label'] == label]\n",
    "    s = data['brier_score']\n",
    "    ax.plot(data['time'], data['brier_score'], color='blue', linestyle='-', linewidth=1, label='Syn')\n",
    "\n",
    "\n",
    "\n",
    "rmse = round(np.sqrt(mean_squared_error(r, s)),4)\n",
    "\n",
    "ax.axhline(y=0.25, color='gray', linestyle='--', alpha=0.3)\n",
    "ax.set_xlabel('Time')\n",
    "ax.set_ylabel('Brier score')\n",
    "ax.set_title('LUNG')\n",
    "ax.legend(title='Model', loc='upper right')\n",
    "ax.grid(True, alpha=0.3)\n",
    "plt.tight_layout()\n",
    "plt.figure(figsize=(10, 6))\n",
    "plt.show()"
   ]
  }
 ],
 "metadata": {
  "kernelspec": {
   "display_name": "pysurv",
   "language": "python",
   "name": "pysurv"
  },
  "language_info": {
   "codemirror_mode": {
    "name": "ipython",
    "version": 3
   },
   "file_extension": ".py",
   "mimetype": "text/x-python",
   "name": "python",
   "nbconvert_exporter": "python",
   "pygments_lexer": "ipython3",
   "version": "3.9.17"
  }
 },
 "nbformat": 4,
 "nbformat_minor": 4
}
