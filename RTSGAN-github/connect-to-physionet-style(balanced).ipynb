{
 "cells": [
  {
   "cell_type": "code",
   "execution_count": 1,
   "metadata": {
    "_cell_guid": "c7c599a0-1137-4e2d-8892-ed4fadcf65dd",
    "_uuid": "4320b26c-9447-4cc8-8243-e6932c3b29cc",
    "execution": {
     "iopub.execute_input": "2022-05-22T06:21:28.580380Z",
     "iopub.status.busy": "2022-05-22T06:21:28.580059Z",
     "iopub.status.idle": "2022-05-22T06:21:28.585481Z",
     "shell.execute_reply": "2022-05-22T06:21:28.584430Z",
     "shell.execute_reply.started": "2022-05-22T06:21:28.580339Z"
    },
    "jupyter": {
     "outputs_hidden": false
    }
   },
   "outputs": [
    {
     "name": "stderr",
     "output_type": "stream",
     "text": [
      "/home/tohone06/.conda/envs/rtsgan/lib/python3.7/site-packages/tqdm/auto.py:22: TqdmWarning: IProgress not found. Please update jupyter and ipywidgets. See https://ipywidgets.readthedocs.io/en/stable/user_install.html\n",
      "  from .autonotebook import tqdm as notebook_tqdm\n"
     ]
    }
   ],
   "source": [
    "import numpy as np\n",
    "import pandas as pd\n",
    "import os\n",
    "import shutil\n",
    "\n",
    "from tqdm.auto import tqdm\n",
    "import itertools\n",
    "import random\n",
    "import pickle"
   ]
  },
  {
   "cell_type": "code",
   "execution_count": 2,
   "metadata": {
    "_cell_guid": "e6c64ad1-d752-4a02-b589-31608560c218",
    "_uuid": "006f61d8-89c1-4b3e-908b-b3c133e43d07",
    "execution": {
     "iopub.execute_input": "2022-05-22T06:21:28.635690Z",
     "iopub.status.busy": "2022-05-22T06:21:28.635146Z",
     "iopub.status.idle": "2022-05-22T06:21:39.525556Z",
     "shell.execute_reply": "2022-05-22T06:21:39.524419Z",
     "shell.execute_reply.started": "2022-05-22T06:21:28.635654Z"
    },
    "jupyter": {
     "outputs_hidden": false
    }
   },
   "outputs": [],
   "source": [
    "# !pip install fastNLP -q\n",
    "\n",
    "from fastNLP import DataSet"
   ]
  },
  {
   "cell_type": "code",
   "execution_count": 4,
   "metadata": {
    "_cell_guid": "0c6e6190-949a-4c9d-9dd1-00bdffed5c04",
    "_uuid": "255357c4-03b0-4a96-8003-14bdb80413b4",
    "execution": {
     "iopub.execute_input": "2022-05-22T06:21:39.528692Z",
     "iopub.status.busy": "2022-05-22T06:21:39.528409Z",
     "iopub.status.idle": "2022-05-22T06:21:39.540523Z",
     "shell.execute_reply": "2022-05-22T06:21:39.539529Z",
     "shell.execute_reply.started": "2022-05-22T06:21:39.528660Z"
    },
    "jupyter": {
     "outputs_hidden": false
    }
   },
   "outputs": [],
   "source": [
    "# shutil.copy('../input/rtsgan0517/missingprocessor.py', './missingprocessor.py')\n",
    "from missingprocessor import Processor"
   ]
  },
  {
   "cell_type": "code",
   "execution_count": 5,
   "metadata": {
    "_cell_guid": "ac549126-080a-494e-8e16-e43ae8990733",
    "_uuid": "0d90f4b3-8a72-466d-a875-c6718303f16f",
    "execution": {
     "iopub.execute_input": "2022-05-22T06:21:39.541949Z",
     "iopub.status.busy": "2022-05-22T06:21:39.541657Z",
     "iopub.status.idle": "2022-05-22T06:21:39.551356Z",
     "shell.execute_reply": "2022-05-22T06:21:39.550303Z",
     "shell.execute_reply.started": "2022-05-22T06:21:39.541912Z"
    },
    "jupyter": {
     "outputs_hidden": false
    }
   },
   "outputs": [],
   "source": [
    "def cohort_selection(df):\n",
    "    \"\"\"\n",
    "    (1) CANCER_PT_BSNF : BSPT_FRST_DIAG_YMD\n",
    "    (2) CANCER_PT_BSNF : (BSPT_FRST_OPRT_YMD, BSPT_FRST_TRTM_STRT_YMD)\n",
    "    0 <= Diff = MIN((2)) - (1) <= 3 months\n",
    "    \"\"\"\n",
    "    selected_cols = ['PT_SBST_NO', 'BSPT_FRST_DIAG_YMD', 'BSPT_FRST_OPRT_YMD', 'BSPT_FRST_ANCN_TRTM_STRT_YMD','BSPT_FRST_RDT_STRT_YMD']\n",
    "    df = df[selected_cols].copy()\n",
    "    df['BSPT_FRST_MIN_YMD'] = df.loc[:, selected_cols[2:4]].min(axis=1)\n",
    "    #df = df.replace(r'\\N', np.nan)\n",
    "    df[df.columns[1:]] = df[df.columns[1:]].apply(lambda x : pd.to_datetime(x, format='%Y%m%d'))\n",
    "\n",
    "    df['BSPT_FRST_DIFF'] = (df['BSPT_FRST_MIN_YMD'] - df['BSPT_FRST_DIAG_YMD']).dt.days\n",
    "    df = df[(df['BSPT_FRST_DIFF'] >= 0) & (df['BSPT_FRST_DIFF'] <= 90)]\n",
    "\n",
    "    pt_key_id = sorted(df['PT_SBST_NO'].unique())\n",
    "\n",
    "    return pt_key_id"
   ]
  },
  {
   "cell_type": "code",
   "execution_count": 6,
   "metadata": {
    "_cell_guid": "324726e2-786c-4f17-b305-1f9f7be6f88a",
    "_uuid": "19511c94-a413-4769-a3fb-743d571be813",
    "execution": {
     "iopub.execute_input": "2022-05-22T06:21:39.554040Z",
     "iopub.status.busy": "2022-05-22T06:21:39.553758Z",
     "iopub.status.idle": "2022-05-22T06:21:39.799090Z",
     "shell.execute_reply": "2022-05-22T06:21:39.798153Z",
     "shell.execute_reply.started": "2022-05-22T06:21:39.554001Z"
    },
    "jupyter": {
     "outputs_hidden": false
    }
   },
   "outputs": [],
   "source": [
    "patient_basicinfo_path = '/home/tohone06/synthetic_cancer_patients/data/CLRC/clrc_pt_bsnf.csv'\n",
    "df_pt_bsnf = pd.read_csv(patient_basicinfo_path, na_values='\\\\N')\n",
    "\n",
    "pt_key_id = cohort_selection(df_pt_bsnf)"
   ]
  },
  {
   "cell_type": "code",
   "execution_count": 7,
   "metadata": {
    "_cell_guid": "c76e5881-e2d1-4b3d-85d1-ebe10473b53e",
    "_uuid": "1192b7a1-dd2c-45ef-a702-25d122d9403c",
    "execution": {
     "iopub.execute_input": "2022-05-22T06:21:39.800814Z",
     "iopub.status.busy": "2022-05-22T06:21:39.800583Z",
     "iopub.status.idle": "2022-05-22T06:21:39.833246Z",
     "shell.execute_reply": "2022-05-22T06:21:39.832204Z",
     "shell.execute_reply.started": "2022-05-22T06:21:39.800786Z"
    },
    "jupyter": {
     "outputs_hidden": false
    }
   },
   "outputs": [],
   "source": [
    "selected_cols = ['PT_SBST_NO', 'BSPT_IDGN_AGE', 'BSPT_SEX_CD', 'BSPT_FRST_DIAG_CD', 'BSPT_FRST_DIAG_YMD','BSPT_DEAD_YMD']\n",
    "df_pt_bsnf = df_pt_bsnf[\n",
    "    df_pt_bsnf['PT_SBST_NO'].isin(pt_key_id)][selected_cols]\n",
    "\n",
    "df_pt_bsnf['BSPT_SEX_CD'] = df_pt_bsnf['BSPT_SEX_CD'].replace({'F': 0, 'M': 1})"
   ]
  },
  {
   "cell_type": "code",
   "execution_count": 8,
   "metadata": {
    "_cell_guid": "8420d228-1ef3-4107-a2bc-6d1586423cae",
    "_uuid": "0ffcd991-e88d-4abd-a6a2-0d27ead6a38b",
    "execution": {
     "iopub.execute_input": "2022-05-22T06:21:39.834978Z",
     "iopub.status.busy": "2022-05-22T06:21:39.834612Z",
     "iopub.status.idle": "2022-05-22T06:21:39.869099Z",
     "shell.execute_reply": "2022-05-22T06:21:39.867875Z",
     "shell.execute_reply.started": "2022-05-22T06:21:39.834933Z"
    },
    "jupyter": {
     "outputs_hidden": false
    }
   },
   "outputs": [],
   "source": [
    "diag_cd = sorted(df_pt_bsnf['BSPT_FRST_DIAG_CD'].unique())\n",
    "diag_cd = {cd: i for i, cd in enumerate(diag_cd)}\n",
    "df_pt_bsnf['BSPT_FRST_DIAG_CD'] = df_pt_bsnf['BSPT_FRST_DIAG_CD'].replace(diag_cd)\n",
    "\n",
    "df_pt_bsnf['BSPT_DEAD'] = df_pt_bsnf['BSPT_DEAD_YMD'].notnull().astype(np.int32)"
   ]
  },
  {
   "cell_type": "code",
   "execution_count": 9,
   "metadata": {
    "_cell_guid": "7b7764ca-4e89-4c3d-93e7-ee9091b5b0da",
    "_uuid": "dc0cc064-1b07-4ed1-b170-3acee8828b62",
    "execution": {
     "iopub.execute_input": "2022-05-22T06:21:39.870963Z",
     "iopub.status.busy": "2022-05-22T06:21:39.870664Z",
     "iopub.status.idle": "2022-05-22T06:22:04.686028Z",
     "shell.execute_reply": "2022-05-22T06:22:04.684474Z",
     "shell.execute_reply.started": "2022-05-22T06:21:39.870928Z"
    },
    "jupyter": {
     "outputs_hidden": false
    }
   },
   "outputs": [
    {
     "name": "stderr",
     "output_type": "stream",
     "text": [
      "/home/tohone06/.conda/envs/rtsgan/lib/python3.7/site-packages/IPython/core/interactiveshell.py:3552: DtypeWarning: Columns (1,2,4) have mixed types.Specify dtype option on import or set low_memory=False.\n",
      "  exec(code_obj, self.user_global_ns, self.user_ns)\n"
     ]
    }
   ],
   "source": [
    "df_ex_diag1_raw_path = '/home/tohone06/synthetic_cancer_patients/data/CLRC/clrc_ex_diag1.csv'\n",
    "df_ex_diag1_raw = pd.read_csv(df_ex_diag1_raw_path, encoding='cp949').replace(r'\\N', np.nan)\n",
    "\n",
    "df_ex_diag2_raw_path = '/home/tohone06/synthetic_cancer_patients/data/CLRC/clrc_ex_diag2.csv'\n",
    "df_ex_diag2_raw = pd.read_csv(df_ex_diag2_raw_path, encoding='cp949').replace(r'\\N', np.nan)"
   ]
  },
  {
   "cell_type": "code",
   "execution_count": 10,
   "metadata": {
    "_cell_guid": "f7e737be-9a52-4563-9dd9-71f05d60dbda",
    "_uuid": "37609fff-7fd9-40da-8bf9-8fd3d8df4272",
    "execution": {
     "iopub.execute_input": "2022-05-22T06:22:04.689087Z",
     "iopub.status.busy": "2022-05-22T06:22:04.688633Z",
     "iopub.status.idle": "2022-05-22T06:22:09.814323Z",
     "shell.execute_reply": "2022-05-22T06:22:09.813395Z",
     "shell.execute_reply.started": "2022-05-22T06:22:04.689027Z"
    },
    "jupyter": {
     "outputs_hidden": false
    }
   },
   "outputs": [],
   "source": [
    "df_ex_diag1 = df_ex_diag1_raw[df_ex_diag1_raw['PT_SBST_NO'].isin(pt_key_id)]\n",
    "df_ex_diag1 = df_ex_diag1[['PT_SBST_NO', 'CEXM_YMD', 'CEXM_NM', 'CEXM_RSLT_CONT', 'CEXM_RSLT_UNIT_CONT']]\n",
    "\n",
    "df_ex_diag2 = df_ex_diag2_raw[df_ex_diag2_raw['PT_SBST_NO'].isin(pt_key_id)]\n",
    "df_ex_diag2 = df_ex_diag2[['PT_SBST_NO', 'CEXM_YMD', 'CEXM_NM', 'CEXM_RSLT_CONT', 'CEXM_RSLT_UNIT_CONT']]\n",
    "\n",
    "df_ex_diag = pd.concat([df_ex_diag1, df_ex_diag2], axis=0, ignore_index=True).sort_values(\n",
    "    by=['PT_SBST_NO', 'CEXM_YMD', 'CEXM_NM']).reset_index(drop=True)"
   ]
  },
  {
   "cell_type": "code",
   "execution_count": 11,
   "metadata": {
    "_cell_guid": "d54fb3b9-9aa0-47fe-abea-ba0dedbf3907",
    "_uuid": "84cb797c-ccbe-410a-8a2c-50eeccf6ddaa",
    "execution": {
     "iopub.execute_input": "2022-05-22T06:22:09.817010Z",
     "iopub.status.busy": "2022-05-22T06:22:09.815911Z",
     "iopub.status.idle": "2022-05-22T06:22:09.822533Z",
     "shell.execute_reply": "2022-05-22T06:22:09.821672Z",
     "shell.execute_reply.started": "2022-05-22T06:22:09.816959Z"
    },
    "jupyter": {
     "outputs_hidden": false
    }
   },
   "outputs": [],
   "source": [
    "var_list = [\n",
    "    'ALP',\n",
    "    'ALT',\n",
    "    'AST',\n",
    "    'Albumin',\n",
    "    'BUN',\n",
    "    'Bilirubin, Total',\n",
    "    'CA 19-9',\n",
    "    'CEA',\n",
    "    'CRP, Quantitative (High Sensitivity)',\n",
    "    'ESR (Erythrocyte Sedimentation Rate)',\n",
    "    'Protein, Total',\n",
    "]"
   ]
  },
  {
   "cell_type": "code",
   "execution_count": 12,
   "metadata": {
    "_cell_guid": "6f7ddda4-395a-4a92-8f8d-2979d15296df",
    "_uuid": "fa565cd1-2158-4d3d-9450-e22e6d6b8a60",
    "execution": {
     "iopub.execute_input": "2022-05-22T06:22:09.827066Z",
     "iopub.status.busy": "2022-05-22T06:22:09.826591Z",
     "iopub.status.idle": "2022-05-22T06:22:12.741634Z",
     "shell.execute_reply": "2022-05-22T06:22:12.740769Z",
     "shell.execute_reply.started": "2022-05-22T06:22:09.827025Z"
    },
    "jupyter": {
     "outputs_hidden": false
    }
   },
   "outputs": [],
   "source": [
    "exclusion = ['Anti-HBs Antibody', 'Anti-HCV Antibody', 'Anti-HIV combo', 'HBsAg']\n",
    "df_ex_diag = df_ex_diag[~df_ex_diag['CEXM_NM'].isin(exclusion)]\n",
    "\n",
    "df_ex_diag = pd.merge(df_ex_diag, df_pt_bsnf[['PT_SBST_NO', 'BSPT_FRST_DIAG_YMD']],\n",
    "                      how='left', on='PT_SBST_NO')\n",
    "df_ex_diag[['CEXM_YMD', 'BSPT_FRST_DIAG_YMD']] = df_ex_diag[['CEXM_YMD', 'BSPT_FRST_DIAG_YMD']].apply(\n",
    "    lambda x: pd.to_datetime(x, format='%Y%m%d'))\n",
    "\n",
    "df_ex_diag['TIMESTAMP'] = (df_ex_diag['CEXM_YMD'] - df_ex_diag['BSPT_FRST_DIAG_YMD']).dt.days\n",
    "df_ex_diag = df_ex_diag[(df_ex_diag['TIMESTAMP']/365 >= 0) & (df_ex_diag['TIMESTAMP']/365 <= 5)]\n",
    "#df_pt_bsnf = df_pt_bsnf[df_pt_bsnf['PT_SBST_NO'].isin(df_ex_diag['PT_SBST_NO'].unique())]\n",
    "df_ex_diag['CEXM_RSLT_CONT'] = df_ex_diag['CEXM_RSLT_CONT'].astype(np.float32)\n",
    "cols_ex_diag = ['PT_SBST_NO', 'CEXM_NM', 'CEXM_RSLT_CONT', 'TIMESTAMP']\n",
    "df_ex_diag = df_ex_diag[cols_ex_diag]"
   ]
  },
  {
   "cell_type": "code",
   "execution_count": 13,
   "metadata": {
    "_cell_guid": "af6484bd-86b7-4755-a9a7-a41e42b87bdf",
    "_uuid": "f95d7de0-7887-4da7-9fbc-dc73a9d1bc0f",
    "execution": {
     "iopub.execute_input": "2022-05-22T06:22:12.743328Z",
     "iopub.status.busy": "2022-05-22T06:22:12.743005Z",
     "iopub.status.idle": "2022-05-22T06:26:21.709129Z",
     "shell.execute_reply": "2022-05-22T06:26:21.708062Z",
     "shell.execute_reply.started": "2022-05-22T06:22:12.743286Z"
    },
    "jupyter": {
     "outputs_hidden": false
    }
   },
   "outputs": [
    {
     "name": "stderr",
     "output_type": "stream",
     "text": [
      "100%|██████████| 15827/15827 [01:32<00:00, 170.49it/s]\n"
     ]
    }
   ],
   "source": [
    "os.makedirs('./data', exist_ok = True)\n",
    "\n",
    "data_collector = []\n",
    "label_collector = []\n",
    "#var_collector = []\n",
    "\n",
    "for k, g in tqdm(df_ex_diag.groupby('PT_SBST_NO')):\n",
    "    to_physionet_style = []\n",
    "    \n",
    "    g = g.pivot_table(index='TIMESTAMP', \n",
    "                      columns='CEXM_NM', \n",
    "                      values='CEXM_RSLT_CONT', \n",
    "                      aggfunc='mean').reset_index(drop=False)\n",
    "\n",
    "    data_collector.append(g)\n",
    "    \n",
    "    age_sex_diag = df_pt_bsnf[df_pt_bsnf['PT_SBST_NO'] == k][['BSPT_IDGN_AGE', 'BSPT_SEX_CD', 'BSPT_FRST_DIAG_CD']].to_numpy()[0]\n",
    "    label = df_pt_bsnf.loc[df_pt_bsnf['PT_SBST_NO']==k, 'BSPT_DEAD'].values.item()\n",
    "    label_collector.append([age_sex_diag[0], age_sex_diag[1], age_sex_diag[2], label])"
   ]
  },
  {
   "cell_type": "code",
   "execution_count": 14,
   "metadata": {
    "_cell_guid": "0f8079d0-0fdc-43a2-a590-965b3ccbe167",
    "_uuid": "c63bfbd7-e200-40c3-8aca-67a2375dd0fb",
    "jupyter": {
     "outputs_hidden": false
    }
   },
   "outputs": [
    {
     "name": "stdout",
     "output_type": "stream",
     "text": [
      "6594 6594\n"
     ]
    }
   ],
   "source": [
    "random.seed(42)\n",
    "\n",
    "dead = [x[0] for x in enumerate(label_collector) if x[1][3]==1]\n",
    "alive = [x[0] for x in enumerate(label_collector) if x[1][3]==0]\n",
    "\n",
    "down_sampled_alive_idx = sorted(random.sample(range(len(alive)), int(len(dead))))\n",
    "alive_downsampled = [alive[idx] for idx in down_sampled_alive_idx]\n",
    "\n",
    "balanced = sorted(dead+alive_downsampled)\n",
    "balanced_data = [x for x in enumerate(data_collector) if x[0] in balanced]\n",
    "print(len(balanced), len(balanced_data))"
   ]
  },
  {
   "cell_type": "code",
   "execution_count": 15,
   "metadata": {
    "_cell_guid": "f68b87f3-58f3-4cee-849d-76c49cfc910a",
    "_uuid": "a25773ec-2200-45da-9992-9478659e3599",
    "execution": {
     "iopub.execute_input": "2022-05-22T06:34:33.788359Z",
     "iopub.status.busy": "2022-05-22T06:34:33.787723Z",
     "iopub.status.idle": "2022-05-22T06:34:33.792840Z",
     "shell.execute_reply": "2022-05-22T06:34:33.791925Z",
     "shell.execute_reply.started": "2022-05-22T06:34:33.788319Z"
    },
    "jupyter": {
     "outputs_hidden": false
    }
   },
   "outputs": [],
   "source": [
    "mode = 'balanced'"
   ]
  },
  {
   "cell_type": "code",
   "execution_count": null,
   "metadata": {
    "_cell_guid": "32bd3d85-530f-4e3a-8b11-7d65e86f7e01",
    "_uuid": "67f77d69-9349-41f5-a365-363b16253088",
    "execution": {
     "iopub.execute_input": "2022-05-22T06:39:22.358326Z",
     "iopub.status.busy": "2022-05-22T06:39:22.357908Z",
     "iopub.status.idle": "2022-05-22T06:39:22.486450Z",
     "shell.execute_reply": "2022-05-22T06:39:22.485503Z",
     "shell.execute_reply.started": "2022-05-22T06:39:22.358293Z"
    },
    "jupyter": {
     "outputs_hidden": false
    }
   },
   "outputs": [],
   "source": [
    "random.seed(42) ## seed works only in same cell\n",
    "\n",
    "if mode == None:\n",
    "    test_idx = sorted(random.sample(range(len(label_collector)),\n",
    "                                    int(len(label_collector)*0.2)))\n",
    "    train_data = [data_collector[idx] for idx in range(0, len(label_collector)) if idx not in test_idx]\n",
    "    test_data = [data_collector[idx] for idx in test_idx]\n",
    "    \n",
    "    sta = pd.DataFrame(label_collector, columns=['age', 'sex', 'diag_code', 'result'])\n",
    "    sta[\"seq_len\"] = np.array([len(x) for x in data_collector])\n",
    "\n",
    "    train_sta = sta.iloc[~sta.index.isin(test_idx)].reset_index(drop=True)\n",
    "    test_sta = sta.iloc[test_idx].reset_index(drop=True)\n",
    "    \n",
    "\n",
    "else:\n",
    "    test_idx = sorted(random.sample(range(len(balanced_data)),\n",
    "                                int(len(balanced_data)*0.2)))\n",
    "    train_data = [balanced_data[idx][1] for idx in range(0, len(balanced_data)) \n",
    "                  if idx not in test_idx]\n",
    "    test_data = [balanced_data[idx][1] for idx in test_idx]\n",
    "    \n",
    "    sta = pd.DataFrame([label_collector[x] for x in balanced], \n",
    "                            columns=['age', 'sex', 'diag_code', 'result'])\n",
    "\n",
    "    sta[\"seq_len\"] = np.array([len(x) for x in balanced_data])\n",
    "\n",
    "    train_sta = sta.iloc[~sta.index.isin(test_idx)].reset_index(drop=True)\n",
    "    test_sta = sta.iloc[test_idx].reset_index(drop=True)"
   ]
  },
  {
   "cell_type": "code",
   "execution_count": null,
   "metadata": {
    "_cell_guid": "c2fc818a-23fe-46fd-adf4-916d3b1f380b",
    "_uuid": "017afd20-b33a-41dc-8d4c-b2347317a0a2",
    "execution": {
     "iopub.execute_input": "2022-05-22T06:39:23.993029Z",
     "iopub.status.busy": "2022-05-22T06:39:23.992723Z",
     "iopub.status.idle": "2022-05-22T06:39:26.998670Z",
     "shell.execute_reply": "2022-05-22T06:39:26.997377Z",
     "shell.execute_reply.started": "2022-05-22T06:39:23.992995Z"
    },
    "jupyter": {
     "outputs_hidden": false
    }
   },
   "outputs": [],
   "source": [
    "dyn_train = pd.concat(train_data)"
   ]
  },
  {
   "cell_type": "code",
   "execution_count": null,
   "metadata": {
    "_cell_guid": "3fa45b05-14eb-488b-bdff-7cdf696e0d05",
    "_uuid": "e5d61118-3519-4330-ac53-8633d4306bd4",
    "execution": {
     "iopub.execute_input": "2022-05-22T06:39:30.119259Z",
     "iopub.status.busy": "2022-05-22T06:39:30.118938Z",
     "iopub.status.idle": "2022-05-22T06:39:30.124243Z",
     "shell.execute_reply": "2022-05-22T06:39:30.123348Z",
     "shell.execute_reply.started": "2022-05-22T06:39:30.119223Z"
    },
    "jupyter": {
     "outputs_hidden": false
    }
   },
   "outputs": [],
   "source": [
    "dyn_types = ['continuos'] * len(dyn_train.columns)\n",
    "sta_types = ['int', 'binary', 'categorical','binary', 'int']"
   ]
  },
  {
   "cell_type": "code",
   "execution_count": null,
   "metadata": {
    "_cell_guid": "37aa99c3-c530-4406-8e0d-0a226b75665b",
    "_uuid": "15553261-204b-4ea3-b260-22be9be1975f",
    "execution": {
     "iopub.execute_input": "2022-05-22T06:39:32.110109Z",
     "iopub.status.busy": "2022-05-22T06:39:32.109256Z",
     "iopub.status.idle": "2022-05-22T06:39:37.535247Z",
     "shell.execute_reply": "2022-05-22T06:39:37.534336Z",
     "shell.execute_reply.started": "2022-05-22T06:39:32.110067Z"
    },
    "jupyter": {
     "outputs_hidden": false
    }
   },
   "outputs": [],
   "source": [
    "d_P = Processor(dyn_types, use_pri='TIMESTAMP')\n",
    "s_P = Processor(sta_types)\n",
    "d_P.fit(dyn_train)\n",
    "s_P.fit(train_sta)"
   ]
  },
  {
   "cell_type": "code",
   "execution_count": null,
   "metadata": {
    "_cell_guid": "587c4e5a-6e76-4d00-a446-cda92f1133b3",
    "_uuid": "464f3b46-a862-40a1-986c-17f2b0bc18c8",
    "execution": {
     "iopub.status.busy": "2022-05-22T06:26:22.729132Z",
     "iopub.status.idle": "2022-05-22T06:26:22.729486Z",
     "shell.execute_reply": "2022-05-22T06:26:22.729340Z",
     "shell.execute_reply.started": "2022-05-22T06:26:22.729323Z"
    },
    "jupyter": {
     "outputs_hidden": false
    }
   },
   "outputs": [],
   "source": [
    "#space : int =1, binary = 1 (0,1), categorical = len(diag_code) = 12, binary = 1, int = 1\n",
    "#total 16 = s_p.shape[1] (4946, 16)"
   ]
  },
  {
   "cell_type": "code",
   "execution_count": null,
   "metadata": {
    "_cell_guid": "dbe4d6ce-0b92-4e7b-8b2f-7119322bab76",
    "_uuid": "0ae3e9b9-9f87-4c9c-a335-ab50daea2f49",
    "execution": {
     "iopub.execute_input": "2022-05-22T06:39:54.862187Z",
     "iopub.status.busy": "2022-05-22T06:39:54.861887Z",
     "iopub.status.idle": "2022-05-22T06:39:54.872338Z",
     "shell.execute_reply": "2022-05-22T06:39:54.871388Z",
     "shell.execute_reply.started": "2022-05-22T06:39:54.862157Z"
    },
    "jupyter": {
     "outputs_hidden": false
    }
   },
   "outputs": [],
   "source": [
    "def build_dataset(sta, dyn, seq_len):\n",
    "    d_lis=[d_P.transform(ds) for ds in dyn] #dataframe to array len=6\n",
    "    d = [x[0].tolist() for x in d_lis]\n",
    "    lag = [x[1].tolist() for x in d_lis]\n",
    "    mask = [x[2].tolist() for x in d_lis]\n",
    "    times = [x[-1].tolist() for x in d_lis] \n",
    "    priv = [x[3].tolist() for x in d_lis]\n",
    "    nex = [x[4].tolist() for x in d_lis]\n",
    "    \n",
    "    s = s_P.transform(sta)\n",
    "    label = [float(x[-2]) for x in s] #-1=seq_len, -2=result(death=1)\n",
    "    \n",
    "    dataset = DataSet({\"seq_len\": seq_len, \n",
    "                       \"dyn\": d, \"lag\":lag, \"mask\": mask,\n",
    "                       \"sta\": s, \"times\":times, \"priv\":priv, \"nex\":nex, \"label\": label\n",
    "                      })\n",
    "    return dataset"
   ]
  },
  {
   "cell_type": "code",
   "execution_count": null,
   "metadata": {
    "_cell_guid": "a32c721e-c082-4eef-9913-23ae0193a272",
    "_uuid": "a60de012-cb7d-48a8-998b-e8029d6f10ef",
    "execution": {
     "iopub.execute_input": "2022-05-22T06:39:56.192365Z",
     "iopub.status.busy": "2022-05-22T06:39:56.191838Z",
     "iopub.status.idle": "2022-05-22T06:40:16.088434Z",
     "shell.execute_reply": "2022-05-22T06:40:16.086203Z",
     "shell.execute_reply.started": "2022-05-22T06:39:56.192324Z"
    },
    "jupyter": {
     "outputs_hidden": false
    }
   },
   "outputs": [],
   "source": [
    "train_set = build_dataset(train_sta, train_data, train_sta['seq_len'].tolist())\n",
    "test_set = build_dataset(test_sta, test_data, test_sta['seq_len'].tolist())"
   ]
  },
  {
   "cell_type": "code",
   "execution_count": null,
   "metadata": {
    "_cell_guid": "5b0d5c8c-5f91-4f1a-bac6-c37c24dd4a82",
    "_uuid": "448eea1e-70d4-449c-bd4e-f5e175cad869",
    "execution": {
     "iopub.execute_input": "2022-05-22T06:41:19.813026Z",
     "iopub.status.busy": "2022-05-22T06:41:19.812699Z",
     "iopub.status.idle": "2022-05-22T06:41:22.047609Z",
     "shell.execute_reply": "2022-05-22T06:41:22.046883Z",
     "shell.execute_reply.started": "2022-05-22T06:41:19.812994Z"
    },
    "jupyter": {
     "outputs_hidden": false
    }
   },
   "outputs": [],
   "source": [
    "finaldic = {\n",
    "    \"train_set\": train_set,\n",
    "    'raw_set': (train_sta, train_data),\n",
    "    'test_set': (test_sta, test_data),\n",
    "    'val_set': test_set,\n",
    "    \"dynamic_processor\": d_P,\n",
    "    \"static_processor\":s_P\n",
    "}\n",
    "\n",
    "if mode == 'balanced':\n",
    "    fname = './connect_clrc_balanced.pkl'\n",
    "\n",
    "else:\n",
    "    fname = \"./connect_clrc.pkl\"\n",
    "    \n",
    "with open(fname, \"wb\") as f:\n",
    "    pickle.dump(finaldic, f)"
   ]
  },
  {
   "cell_type": "code",
   "execution_count": null,
   "metadata": {
    "_cell_guid": "3213edd5-475b-46b3-90ef-fbb18d54a349",
    "_uuid": "9ff2a7cc-fdf0-4d50-bde1-91dc1accb442",
    "execution": {
     "iopub.execute_input": "2022-05-22T06:41:22.050647Z",
     "iopub.status.busy": "2022-05-22T06:41:22.049807Z",
     "iopub.status.idle": "2022-05-22T06:41:26.194719Z",
     "shell.execute_reply": "2022-05-22T06:41:26.194050Z",
     "shell.execute_reply.started": "2022-05-22T06:41:22.050604Z"
    },
    "jupyter": {
     "outputs_hidden": false
    }
   },
   "outputs": [],
   "source": [
    "dataset = pickle.load(open(fname, \"rb\"))"
   ]
  },
  {
   "cell_type": "code",
   "execution_count": null,
   "metadata": {
    "_cell_guid": "ca09b485-7b25-45cc-9703-9ca785aa0384",
    "_uuid": "21191973-24bf-4e66-9309-1552263fe86a",
    "execution": {
     "iopub.execute_input": "2022-05-22T06:41:46.999316Z",
     "iopub.status.busy": "2022-05-22T06:41:46.998995Z",
     "iopub.status.idle": "2022-05-22T06:41:47.005329Z",
     "shell.execute_reply": "2022-05-22T06:41:47.004203Z",
     "shell.execute_reply.started": "2022-05-22T06:41:46.999280Z"
    },
    "jupyter": {
     "outputs_hidden": false
    }
   },
   "outputs": [],
   "source": [
    "len(dataset)"
   ]
  },
  {
   "cell_type": "code",
   "execution_count": null,
   "metadata": {
    "_cell_guid": "3402a4e1-67f2-479b-a211-9a9b72deaf99",
    "_uuid": "f6026a41-fdf5-48e6-bdcc-fa1632ea06c8",
    "jupyter": {
     "outputs_hidden": false
    }
   },
   "outputs": [],
   "source": []
  }
 ],
 "metadata": {
  "kernelspec": {
   "display_name": "rtsgan",
   "language": "python",
   "name": "rtsgan"
  },
  "language_info": {
   "codemirror_mode": {
    "name": "ipython",
    "version": 3
   },
   "file_extension": ".py",
   "mimetype": "text/x-python",
   "name": "python",
   "nbconvert_exporter": "python",
   "pygments_lexer": "ipython3",
   "version": "3.7.13"
  }
 },
 "nbformat": 4,
 "nbformat_minor": 4
}
